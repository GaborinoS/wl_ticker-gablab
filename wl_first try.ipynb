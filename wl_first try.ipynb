{
 "cells": [
  {
   "cell_type": "code",
   "execution_count": 15,
   "id": "616fb89e",
   "metadata": {},
   "outputs": [
    {
     "name": "stdout",
     "output_type": "stream",
     "text": [
      "Haltestelle: Rathaus\n",
      "----------------------------------------\n",
      "Linie: U2 Richtung: SEESTADT         \n",
      "  Abfahrt in 3 Minuten\n",
      "  Abfahrt in 10 Minuten\n",
      "  Abfahrt in 17 Minuten\n",
      "  Abfahrt in 24 Minuten\n",
      "  Abfahrt in 32 Minuten\n",
      "  Abfahrt in 39 Minuten\n",
      "  Abfahrt in 47 Minuten\n",
      "  Abfahrt in 54 Minuten\n",
      "  Abfahrt in 62 Minuten\n",
      "  Abfahrt in 69 Minuten\n",
      "\n"
     ]
    }
   ],
   "source": [
    "import requests\n",
    "import json\n",
    "\n",
    "def get_departures(stop_id):\n",
    "    \"\"\"Abfahrtszeiten für eine bestimmte Haltestelle abrufen\"\"\"\n",
    "    url = f\"http://www.wienerlinien.at/ogd_realtime/monitor?stopId={stop_id}\"\n",
    "    \n",
    "    response = requests.get(url)\n",
    "    data = response.json()\n",
    "    \n",
    "    if \"data\" in data and \"monitors\" in data[\"data\"]:\n",
    "        return data[\"data\"][\"monitors\"]\n",
    "    return None\n",
    "\n",
    "def print_departures(stop_id):\n",
    "    \"\"\"Abfahrtszeiten formatiert ausgeben\"\"\"\n",
    "    departures = get_departures(stop_id)\n",
    "    \n",
    "    if not departures:\n",
    "        print(\"Keine Daten gefunden\")\n",
    "        return\n",
    "    \n",
    "    countdown_list = []\n",
    "    countdown_strings = []\n",
    "\n",
    "    for monitor in departures:\n",
    "        location = monitor[\"locationStop\"][\"properties\"][\"title\"]\n",
    "        print(f\"Haltestelle: {location}\")\n",
    "        print(\"-\" * 40)\n",
    "        line_data_full = []\n",
    "\n",
    "        for line in monitor[\"lines\"]:\n",
    "            line_data_full.append(line)\n",
    "            line_name = line[\"name\"]\n",
    "            towards = line[\"towards\"]\n",
    "            print(f\"Linie: {line_name} Richtung: {towards}\")\n",
    "            \n",
    "            if \"departures\" in line and \"departure\" in line[\"departures\"]:\n",
    "                for departure in line[\"departures\"][\"departure\"]:\n",
    "                    countdown = departure[\"departureTime\"][\"countdown\"]\n",
    "                    print(f\"  Abfahrt in {countdown} Minuten\")\n",
    "                    countdown_list.append(countdown)\n",
    "                    countdown_strings.append(f'Abfahrt in {countdown} Minuten')\n",
    "            print()\n",
    "    return countdown, countdown_strings, line_data_full\n",
    "# Beispiel für die Haltestelle Stephansplatz (ID: 4210)\n",
    "countdown,countdown_strings, line_data_full = print_departures(4210)\n"
   ]
  },
  {
   "cell_type": "code",
   "execution_count": 13,
   "id": "e095078c",
   "metadata": {},
   "outputs": [
    {
     "data": {
      "text/plain": [
       "['Abfahrt in 4 Minuten',\n",
       " 'Abfahrt in 11 Minuten',\n",
       " 'Abfahrt in 17 Minuten',\n",
       " 'Abfahrt in 25 Minuten',\n",
       " 'Abfahrt in 32 Minuten',\n",
       " 'Abfahrt in 40 Minuten',\n",
       " 'Abfahrt in 47 Minuten',\n",
       " 'Abfahrt in 55 Minuten',\n",
       " 'Abfahrt in 62 Minuten']"
      ]
     },
     "execution_count": 13,
     "metadata": {},
     "output_type": "execute_result"
    }
   ],
   "source": [
    "countdown_strings"
   ]
  }
 ],
 "metadata": {
  "kernelspec": {
   "display_name": "solution",
   "language": "python",
   "name": "python3"
  },
  "language_info": {
   "codemirror_mode": {
    "name": "ipython",
    "version": 3
   },
   "file_extension": ".py",
   "mimetype": "text/x-python",
   "name": "python",
   "nbconvert_exporter": "python",
   "pygments_lexer": "ipython3",
   "version": "3.11.7"
  }
 },
 "nbformat": 4,
 "nbformat_minor": 5
}
